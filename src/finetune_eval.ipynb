{
 "cells": [
  {
   "cell_type": "code",
   "execution_count": 1,
   "metadata": {},
   "outputs": [],
   "source": [
    "\n",
    "import os\n",
    "from models import TransformerModel\n",
    "from tasks import get_task_sampler\n",
    "from samplers import get_data_sampler\n",
    "import torch\n",
    "import numpy as np\n",
    "\n"
   ]
  },
  {
   "cell_type": "code",
   "execution_count": 19,
   "metadata": {},
   "outputs": [],
   "source": [
    "def eval_batch(model, task_sampler, xs, include_noise=True, ground_truth_loss=False, smoothing=0):\n",
    "    task = task_sampler()\n",
    "    if torch.cuda.is_available() and model.name.split(\"_\")[0] in [\"gpt2\", \"lstm\"]:\n",
    "        device = \"cuda\"\n",
    "    else:\n",
    "        device = \"cpu\"\n",
    "    perturbations = np.arange(-1 * smoothing, smoothing + 0.002, 0.002)\n",
    "    predictions = torch.zeros(len(perturbations), xs.shape[0], xs.shape[1])\n",
    "    if ground_truth_loss:\n",
    "        ys, noise = task.evaluate(xs, noise=include_noise, separate_noise=True)\n",
    "        ys = ys + noise\n",
    "    else:\n",
    "        ys = task.evaluate(xs, noise=include_noise, separate_noise=False)\n",
    "    for i in range(len(perturbations)):\n",
    "        cur_xs = xs + perturbations[i]\n",
    "        pred = model(cur_xs.to(device), ys.to(device)).detach()\n",
    "        predictions[i] = pred.cpu()\n",
    "    predictions = predictions.mean(dim=0)\n",
    "    if ground_truth_loss:\n",
    "        metrics = task.get_metric()(predictions, ys - noise)\n",
    "    else: \n",
    "        metrics = task.get_metric()(predictions, ys)\n",
    "\n",
    "    # hinge metric\n",
    "    # return mean squared error only where ys = 0.5\n",
    "    clamped_error = metrics[torch.where(ys == 0.5)]\n",
    "\n",
    "\n",
    "    return metrics, clamped_error\n",
    "\n",
    "def build_model():\n",
    "    model = TransformerModel(\n",
    "        n_dims=1,\n",
    "        n_positions=41,\n",
    "        n_embd=512,\n",
    "        n_layer=24,\n",
    "        n_head=16,\n",
    "    )\n",
    "    return model\n"
   ]
  },
  {
   "cell_type": "code",
   "execution_count": 20,
   "metadata": {},
   "outputs": [],
   "source": [
    "\n",
    "model = build_model()\n",
    "torch.cuda.set_device(6)\n",
    "model.cuda()\n",
    "\n",
    "ckpt_path = '/home/riadoshi/alignment/Alignment/models/finetune/go_time/'\n",
    "base_model = os.path.join(ckpt_path, \"state.pt\")\n",
    "state = torch.load(base_model)\n",
    "model.load_state_dict(state[\"model_state_dict\"])\n",
    "\n",
    "task_sampler = get_task_sampler(\n",
    "        \"clamped_chebyshev\", 1, 64\n",
    ")\n",
    "\n",
    "def gen_standard(data_sampler, n_points, b_size):\n",
    "    xs = data_sampler.sample_xs(n_points, b_size)\n",
    "    return xs, None\n",
    "\n",
    "data_sampler = get_data_sampler('gaussian', 1)\n",
    "xs, xs_p = gen_standard(data_sampler, n_points=41, b_size=64)\n",
    "metrics = eval_batch(model, task_sampler, xs, include_noise=False, ground_truth_loss=False, smoothing=0)\n"
   ]
  },
  {
   "cell_type": "code",
   "execution_count": 21,
   "metadata": {},
   "outputs": [],
   "source": [
    "other_metrics, clamped_mse = metrics"
   ]
  },
  {
   "cell_type": "code",
   "execution_count": 27,
   "metadata": {},
   "outputs": [
    {
     "data": {
      "text/plain": [
       "tensor(569.1140)"
      ]
     },
     "execution_count": 27,
     "metadata": {},
     "output_type": "execute_result"
    }
   ],
   "source": [
    "sum(clamped_mse).mean()"
   ]
  },
  {
   "cell_type": "code",
   "execution_count": 28,
   "metadata": {},
   "outputs": [
    {
     "data": {
      "text/plain": [
       "tensor(37.0464)"
      ]
     },
     "execution_count": 28,
     "metadata": {},
     "output_type": "execute_result"
    }
   ],
   "source": [
    "sum(other_metrics).mean()"
   ]
  },
  {
   "cell_type": "code",
   "execution_count": null,
   "metadata": {},
   "outputs": [],
   "source": []
  }
 ],
 "metadata": {
  "kernelspec": {
   "display_name": "in-context-learning",
   "language": "python",
   "name": "python3"
  },
  "language_info": {
   "codemirror_mode": {
    "name": "ipython",
    "version": 3
   },
   "file_extension": ".py",
   "mimetype": "text/x-python",
   "name": "python",
   "nbconvert_exporter": "python",
   "pygments_lexer": "ipython3",
   "version": "3.8.12"
  }
 },
 "nbformat": 4,
 "nbformat_minor": 2
}
